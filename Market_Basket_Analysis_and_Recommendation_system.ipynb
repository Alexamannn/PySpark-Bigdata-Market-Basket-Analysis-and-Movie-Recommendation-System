{
  "nbformat": 4,
  "nbformat_minor": 0,
  "metadata": {
    "accelerator": "TPU",
    "colab": {
      "name": "Market Basket Analysis and Recommendation system.ipynb",
      "provenance": [],
      "collapsed_sections": []
    },
    "kernelspec": {
      "display_name": "Python 3",
      "language": "python",
      "name": "python3"
    }
  },
  "cells": [
    {
      "cell_type": "code",
      "metadata": {
        "colab": {
          "resources": {
            "http://localhost:8080/nbextensions/google.colab/files.js": {
              "data": "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",
              "ok": true,
              "headers": [
                [
                  "content-type",
                  "application/javascript"
                ]
              ],
              "status": 200,
              "status_text": ""
            }
          },
          "base_uri": "https://localhost:8080/",
          "height": 90
        },
        "id": "Pfkzh6bn6eOP",
        "outputId": "ae5749b6-2b61-415e-8c5a-52b1e06791d9"
      },
      "source": [
        "from google.colab import files\n",
        "files.upload() #upload kaggle.json"
      ],
      "execution_count": 1,
      "outputs": [
        {
          "output_type": "display_data",
          "data": {
            "text/html": [
              "\n",
              "     <input type=\"file\" id=\"files-96a14715-3b2b-4a71-9cfc-a69b7273fd54\" name=\"files[]\" multiple disabled\n",
              "        style=\"border:none\" />\n",
              "     <output id=\"result-96a14715-3b2b-4a71-9cfc-a69b7273fd54\">\n",
              "      Upload widget is only available when the cell has been executed in the\n",
              "      current browser session. Please rerun this cell to enable.\n",
              "      </output>\n",
              "      <script src=\"/nbextensions/google.colab/files.js\"></script> "
            ],
            "text/plain": [
              "<IPython.core.display.HTML object>"
            ]
          },
          "metadata": {
            "tags": []
          }
        },
        {
          "output_type": "stream",
          "text": [
            "Saving kaggle.json to kaggle.json\n"
          ],
          "name": "stdout"
        },
        {
          "output_type": "execute_result",
          "data": {
            "text/plain": [
              "{'kaggle.json': b'{\"username\":\"alexaman\",\"key\":\"db5b94bbf62d6c54956a11bbf090315d\"}'}"
            ]
          },
          "metadata": {
            "tags": []
          },
          "execution_count": 1
        }
      ]
    },
    {
      "cell_type": "code",
      "metadata": {
        "colab": {
          "base_uri": "https://localhost:8080/"
        },
        "id": "SBc_2a5fMJWT",
        "outputId": "fb3b380c-1c70-47b6-f09e-950adad78c00"
      },
      "source": [
        "!apt-get install openjdk-8-jdk-headless -qq > /dev/null\n",
        "!wget -q https://www-us.apache.org/dist/spark/spark-3.1.1/spark-3.1.1-bin-hadoop2.7.tgz \n",
        "!tar xf spark-3.1.1-bin-hadoop2.7.tgz\n",
        "!pip install -q findspark\n",
        "!pip install pyspark"
      ],
      "execution_count": 2,
      "outputs": [
        {
          "output_type": "stream",
          "text": [
            "Collecting pyspark\n",
            "\u001b[?25l  Downloading https://files.pythonhosted.org/packages/45/b0/9d6860891ab14a39d4bddf80ba26ce51c2f9dc4805e5c6978ac0472c120a/pyspark-3.1.1.tar.gz (212.3MB)\n",
            "\u001b[K     |████████████████████████████████| 212.3MB 68kB/s \n",
            "\u001b[33mWARNING: Retrying (Retry(total=4, connect=None, read=None, redirect=None, status=None)) after connection broken by 'ProtocolError('Connection aborted.', ConnectionResetError(104, 'Connection reset by peer'))': /simple/py4j/\u001b[0m\n",
            "\u001b[?25hCollecting py4j==0.10.9\n",
            "\u001b[?25l  Downloading https://files.pythonhosted.org/packages/9e/b6/6a4fb90cd235dc8e265a6a2067f2a2c99f0d91787f06aca4bcf7c23f3f80/py4j-0.10.9-py2.py3-none-any.whl (198kB)\n",
            "\u001b[K     |████████████████████████████████| 204kB 48.6MB/s \n",
            "\u001b[?25hBuilding wheels for collected packages: pyspark\n",
            "  Building wheel for pyspark (setup.py) ... \u001b[?25l\u001b[?25hdone\n",
            "  Created wheel for pyspark: filename=pyspark-3.1.1-py2.py3-none-any.whl size=212767604 sha256=395ac2ecc6d4efafa9c59f4ba40a379b90876ead6bca95183756131ee10fd21c\n",
            "  Stored in directory: /root/.cache/pip/wheels/0b/90/c0/01de724414ef122bd05f056541fb6a0ecf47c7ca655f8b3c0f\n",
            "Successfully built pyspark\n",
            "Installing collected packages: py4j, pyspark\n",
            "Successfully installed py4j-0.10.9 pyspark-3.1.1\n"
          ],
          "name": "stdout"
        }
      ]
    },
    {
      "cell_type": "code",
      "metadata": {
        "id": "52pOO1lgNj8c"
      },
      "source": [
        "import os\n",
        "os.environ[\"JAVA_HOME\"] = \"/usr/lib/jvm/java-8-openjdk-amd64\"\n",
        "os.environ[\"SPARK_HOME\"] = \"/content/spark-3.1.1-bin-hadoop2.7\""
      ],
      "execution_count": 3,
      "outputs": []
    },
    {
      "cell_type": "code",
      "metadata": {
        "id": "9Wk3Z2KwXPzp"
      },
      "source": [
        "import findspark\n",
        "findspark.init()"
      ],
      "execution_count": 4,
      "outputs": []
    },
    {
      "cell_type": "code",
      "metadata": {
        "id": "DX-lxThJN_-c"
      },
      "source": [
        "from pyspark.sql import SparkSession\n",
        "\n",
        "spark = SparkSession.builder\\\n",
        "      .master(\"local\")\\\n",
        "        .appName(\"imdb\")\\\n",
        "        .config('spark.ui.port', '4050')\\\n",
        "        .config(\"spark.driver.memory\", \"2g\") \\\n",
        "        .config(\"spark.sql.broadcastTimeout\", \"10h\") \\\n",
        "        .config(\"spark.executor.memory\", \"10g\") \\\n",
        "        .config('spark.sql.shuffle.partitions', '3') \\\n",
        "        .config(\"spark.sql.execution.arrow.enabled\",\"true\") \\\n",
        "        .getOrCreate()"
      ],
      "execution_count": 5,
      "outputs": []
    },
    {
      "cell_type": "code",
      "metadata": {
        "colab": {
          "base_uri": "https://localhost:8080/"
        },
        "id": "JbUvnYoe6pQM",
        "outputId": "8ff4d16d-2005-4638-c24d-b6433a8b90a9"
      },
      "source": [
        "!pip install -q kaggle\n",
        "!mkdir -p ~/.kaggle\n",
        "!cp kaggle.json ~/.kaggle/\n",
        "!ls ~/.kaggle\n",
        "!chmod 600 /root/.kaggle/kaggle.json\n",
        "!kaggle datasets download -q ashirwadsangwan/imdb-dataset \n",
        "!unzip /content/imdb-dataset.zip"
      ],
      "execution_count": 6,
      "outputs": [
        {
          "output_type": "stream",
          "text": [
            "kaggle.json\n",
            "Archive:  /content/imdb-dataset.zip\n",
            "  inflating: name.basics.tsv.gz      \n",
            "  inflating: name.basics.tsv/name.basics.tsv  \n",
            "  inflating: title.akas.tsv.gz       \n",
            "  inflating: title.akas.tsv/title.akas.tsv  \n",
            "  inflating: title.basics.tsv.gz     \n",
            "  inflating: title.basics.tsv/title.basics.tsv  \n",
            "  inflating: title.principals.tsv.gz  \n",
            "  inflating: title.principals.tsv/title.principals.tsv  \n",
            "  inflating: title.ratings.tsv.gz    \n",
            "  inflating: title.ratings.tsv/title.ratings.tsv  \n"
          ],
          "name": "stdout"
        }
      ]
    },
    {
      "cell_type": "code",
      "metadata": {
        "id": "_ihhNkXT8cas"
      },
      "source": [
        "import numpy as np\n",
        "import pandas as pd\n",
        "from pyspark.sql import functions as f\n",
        "from pyspark.sql.functions import col ,explode,array,struct,lit\n",
        "spark.conf.set(\"spark.sql.execution.arrow.pyspark.enabled\", \"true\")"
      ],
      "execution_count": 7,
      "outputs": []
    },
    {
      "cell_type": "code",
      "metadata": {
        "id": "RD4NfzKPXwOP"
      },
      "source": [
        "ratings=spark.read.csv('/content/title.ratings.tsv.gz', sep=r'\\t', header=True)\n",
        "castcrew1=spark.read.csv('/content/name.basics.tsv.gz', sep=r'\\t', header=True)\n",
        "movies=spark.read.csv('/content/title.basics.tsv', sep=r'\\t', header=True)\n"
      ],
      "execution_count": 8,
      "outputs": []
    },
    {
      "cell_type": "code",
      "metadata": {
        "colab": {
          "base_uri": "https://localhost:8080/"
        },
        "id": "rDqZuAxYS41E",
        "outputId": "a817bc54-a0e8-46ae-84ea-3285f6dfba48"
      },
      "source": [
        "castcrew1.show()"
      ],
      "execution_count": 9,
      "outputs": [
        {
          "output_type": "stream",
          "text": [
            "+---------+-------------------+---------+---------+--------------------+--------------------+\n",
            "|   nconst|        primaryName|birthYear|deathYear|   primaryProfession|      knownForTitles|\n",
            "+---------+-------------------+---------+---------+--------------------+--------------------+\n",
            "|nm0000001|       Fred Astaire|     1899|     1987|soundtrack,actor,...|tt0050419,tt00531...|\n",
            "|nm0000002|      Lauren Bacall|     1924|     2014|  actress,soundtrack|tt0117057,tt00373...|\n",
            "|nm0000003|    Brigitte Bardot|     1934|       \\N|actress,soundtrac...|tt0049189,tt00599...|\n",
            "|nm0000004|       John Belushi|     1949|     1982|actor,writer,soun...|tt0078723,tt00804...|\n",
            "|nm0000005|     Ingmar Bergman|     1918|     2007|writer,director,a...|tt0050986,tt00839...|\n",
            "|nm0000006|     Ingrid Bergman|     1915|     1982|actress,soundtrac...|tt0077711,tt00387...|\n",
            "|nm0000007|    Humphrey Bogart|     1899|     1957|actor,soundtrack,...|tt0033870,tt00373...|\n",
            "|nm0000008|      Marlon Brando|     1924|     2004|actor,soundtrack,...|tt0078788,tt00708...|\n",
            "|nm0000009|     Richard Burton|     1925|     1984|actor,producer,so...|tt0059749,tt00611...|\n",
            "|nm0000010|       James Cagney|     1899|     1986|actor,soundtrack,...|tt0031867,tt00298...|\n",
            "|nm0000011|        Gary Cooper|     1901|     1961|actor,soundtrack,...|tt0035896,tt00279...|\n",
            "|nm0000012|        Bette Davis|     1908|     1989|actress,soundtrac...|tt0031210,tt00566...|\n",
            "|nm0000013|          Doris Day|     1922|     2019|soundtrack,actres...|tt0053172,tt00483...|\n",
            "|nm0000014|Olivia de Havilland|     1916|       \\N|  actress,soundtrack|tt0031381,tt00414...|\n",
            "|nm0000015|         James Dean|     1931|     1955| actor,miscellaneous|tt0048545,tt00480...|\n",
            "|nm0000016|    Georges Delerue|     1925|     1992|composer,soundtra...|tt0091763,tt00963...|\n",
            "|nm0000017|   Marlene Dietrich|     1901|     1992|soundtrack,actres...|tt0051201,tt00550...|\n",
            "|nm0000018|       Kirk Douglas|     1916|       \\N|actor,producer,so...|tt0052365,tt00807...|\n",
            "|nm0000019|   Federico Fellini|     1920|     1993|writer,director,a...|tt0056801,tt00507...|\n",
            "|nm0000020|        Henry Fonda|     1905|     1982|actor,producer,so...|tt0064116,tt00828...|\n",
            "+---------+-------------------+---------+---------+--------------------+--------------------+\n",
            "only showing top 20 rows\n",
            "\n"
          ],
          "name": "stdout"
        }
      ]
    },
    {
      "cell_type": "code",
      "metadata": {
        "colab": {
          "base_uri": "https://localhost:8080/"
        },
        "id": "9tIVmpr5WSs4",
        "outputId": "c6829053-5cd0-46ad-8236-ef2412eb7a68"
      },
      "source": [
        "ratings.show()"
      ],
      "execution_count": 10,
      "outputs": [
        {
          "output_type": "stream",
          "text": [
            "+---------+-------------+--------+\n",
            "|   tconst|averageRating|numVotes|\n",
            "+---------+-------------+--------+\n",
            "|tt0000001|          5.6|    1550|\n",
            "|tt0000002|          6.1|     186|\n",
            "|tt0000003|          6.5|    1207|\n",
            "|tt0000004|          6.2|     113|\n",
            "|tt0000005|          6.1|    1934|\n",
            "|tt0000006|          5.2|     102|\n",
            "|tt0000007|          5.5|     615|\n",
            "|tt0000008|          5.4|    1668|\n",
            "|tt0000009|          5.4|      81|\n",
            "|tt0000010|          6.9|    5549|\n",
            "|tt0000011|          5.2|     236|\n",
            "|tt0000012|          7.4|    9440|\n",
            "|tt0000013|          5.7|    1447|\n",
            "|tt0000014|          7.1|    4115|\n",
            "|tt0000015|          6.1|     742|\n",
            "|tt0000016|          5.9|    1088|\n",
            "|tt0000017|          4.7|     214|\n",
            "|tt0000018|          5.4|     447|\n",
            "|tt0000019|          5.5|      17|\n",
            "|tt0000020|          5.0|     249|\n",
            "+---------+-------------+--------+\n",
            "only showing top 20 rows\n",
            "\n"
          ],
          "name": "stdout"
        }
      ]
    },
    {
      "cell_type": "code",
      "metadata": {
        "id": "DEoP_yleqh13"
      },
      "source": [
        "split_col = f.split(castcrew1.knownForTitles, ',')\n",
        "\n",
        "df = castcrew1.withColumn(\"mov1\", split_col.getItem(0))\\\n",
        "    .withColumn(\"mov2\", split_col.getItem(1))\\\n",
        "    .withColumn(\"mov3\", split_col.getItem(2))\\\n",
        "    .withColumn(\"mov4\", split_col.getItem(3))\\\n",
        "    .drop(\"key\")"
      ],
      "execution_count": 11,
      "outputs": []
    },
    {
      "cell_type": "code",
      "metadata": {
        "id": "qHoRxNcEv3mp"
      },
      "source": [
        "castcrew12=df.select('nconst','mov1','mov2','mov3','mov4')\n"
      ],
      "execution_count": 12,
      "outputs": []
    },
    {
      "cell_type": "code",
      "metadata": {
        "colab": {
          "base_uri": "https://localhost:8080/"
        },
        "id": "NPeIbo1osn-_",
        "outputId": "fd78e363-7fc4-4539-9dae-b61b7ee6fc6a"
      },
      "source": [
        "castcrew12.show()"
      ],
      "execution_count": 13,
      "outputs": [
        {
          "output_type": "stream",
          "text": [
            "+---------+---------+---------+---------+---------+\n",
            "|   nconst|     mov1|     mov2|     mov3|     mov4|\n",
            "+---------+---------+---------+---------+---------+\n",
            "|nm0000001|tt0050419|tt0053137|tt0043044|tt0072308|\n",
            "|nm0000002|tt0117057|tt0037382|tt0071877|tt0038355|\n",
            "|nm0000003|tt0049189|tt0059956|tt0054452|tt0057345|\n",
            "|nm0000004|tt0078723|tt0080455|tt0072562|tt0077975|\n",
            "|nm0000005|tt0050986|tt0083922|tt0069467|tt0050976|\n",
            "|nm0000006|tt0077711|tt0038787|tt0036855|tt0038109|\n",
            "|nm0000007|tt0033870|tt0037382|tt0034583|tt0043265|\n",
            "|nm0000008|tt0078788|tt0070849|tt0068646|tt0047296|\n",
            "|nm0000009|tt0059749|tt0061184|tt0057877|tt0087803|\n",
            "|nm0000010|tt0031867|tt0029870|tt0035575|tt0042041|\n",
            "|nm0000011|tt0035896|tt0027996|tt0034167|tt0044706|\n",
            "|nm0000012|tt0031210|tt0056687|tt0035140|tt0042192|\n",
            "|nm0000013|tt0053172|tt0048317|tt0060463|tt0055100|\n",
            "|nm0000014|tt0031381|tt0041452|tt0040806|tt0029843|\n",
            "|nm0000015|tt0048545|tt0048028|tt0044245|tt0049261|\n",
            "|nm0000016|tt0091763|tt0096320|tt0057345|tt0069946|\n",
            "|nm0000017|tt0051201|tt0055031|tt0021156|tt0052311|\n",
            "|nm0000018|tt0052365|tt0080736|tt0054331|tt0043338|\n",
            "|nm0000019|tt0056801|tt0050783|tt0071129|tt0053779|\n",
            "|nm0000020|tt0064116|tt0082846|tt0050083|tt0032551|\n",
            "+---------+---------+---------+---------+---------+\n",
            "only showing top 20 rows\n",
            "\n"
          ],
          "name": "stdout"
        }
      ]
    },
    {
      "cell_type": "code",
      "metadata": {
        "colab": {
          "base_uri": "https://localhost:8080/"
        },
        "id": "DCl-AQOqxVT3",
        "outputId": "82f0fb12-2d7f-47e5-ed1f-20ef9af0fa34"
      },
      "source": [
        "dfk= ratings.withColumn(\"id\", col(\"tconst\")).join(castcrew12.withColumn(\"id\", col(\"mov1\")), on=\"id\")\n",
        "dfk1=dfk.selectExpr(\"tconst\",\"averageRating\",\"numVotes\", \"nconst as one\")\n",
        "dfk1 = dfk1.groupBy('tconst').agg(f.concat(f.collect_list('one')))\n",
        "dfk2= ratings.withColumn(\"id\", col(\"tconst\")).join(castcrew12.withColumn(\"id\", col(\"mov2\")), on=\"id\")\n",
        "dfk2=dfk2.selectExpr(\"tconst\",\"nconst as two\")\n",
        "dfk2 = dfk2.groupBy('tconst').agg(f.concat(f.collect_list('two')))\n",
        "dfk3= ratings.withColumn(\"id\", col(\"tconst\")).join(castcrew12.withColumn(\"id\", col(\"mov3\")), on=\"id\")\n",
        "dfk3=dfk3.selectExpr(\"tconst\",\"nconst as three\")\n",
        "dfk3 = dfk3.groupBy('tconst').agg(f.concat(f.collect_list('three')))\n",
        "dfk4= ratings.withColumn(\"id\", col(\"tconst\")).join(castcrew12.withColumn(\"id\", col(\"mov4\")), on=\"id\")\n",
        "dfk4=dfk4.selectExpr(\"tconst\",\"nconst as four\")\n",
        "dfk4 = dfk4.groupBy('tconst').agg(f.concat(f.collect_list('four')))\n",
        "dfk5 = dfk1.join(dfk2, on=['tconst'], how='left')\n",
        "dfk6= dfk5.join(dfk3, on=['tconst'], how='left')\n",
        "dfk7= dfk6.join(dfk4, on=['tconst'], how='left')\n",
        "dfk8= dfk7.join(ratings, on=['tconst'], how='left')\n",
        "data=dfk8.select('tconst','averageRating','numVotes',f.concat(\n",
        "    f.coalesce(col(\"concat(collect_list(one))\"), array()),\n",
        "    f.coalesce(col(\"concat(collect_list(two))\"), array()),\n",
        "    f.coalesce(col(\"concat(collect_list(three))\"), array()),\n",
        "    f.coalesce(col(\"concat(collect_list(four))\"), array())).alias(\"castcrew\"))\n",
        "data.show(truncate=False)"
      ],
      "execution_count": 14,
      "outputs": [
        {
          "output_type": "stream",
          "text": [
            "+---------+-------------+--------+----------------------------------------------------------------------------------------------------------------------------------------------------------------------------------------------------------------------------+\n",
            "|tconst   |averageRating|numVotes|castcrew                                                                                                                                                                                                                    |\n",
            "+---------+-------------+--------+----------------------------------------------------------------------------------------------------------------------------------------------------------------------------------------------------------------------------+\n",
            "|tt0000003|6.5          |1207    |[nm0721526, nm5442194, nm5442200, nm5442215, nm5442293, nm1335271]                                                                                                                                                          |\n",
            "|tt0000012|7.4          |9440    |[nm9735580, nm0525908, nm0525910, nm2880396]                                                                                                                                                                                |\n",
            "|tt0000014|7.1          |4115    |[nm0166380, nm0244989, nm0525910]                                                                                                                                                                                           |\n",
            "|tt0000018|5.4          |447     |[nm3692071]                                                                                                                                                                                                                 |\n",
            "|tt0000029|5.9          |2639    |[nm2350838, nm0525900]                                                                                                                                                                                                      |\n",
            "|tt0000121|4.6          |43      |[nm0609678, nm0780534, nm5718242, nm0832461]                                                                                                                                                                                |\n",
            "|tt0000165|5.2          |76      |[nm0024876, nm0083196, nm0556371, nm0563758, nm0278321]                                                                                                                                                                     |\n",
            "|tt0000174|4.9          |98      |[nm1024447, nm0471818]                                                                                                                                                                                                      |\n",
            "|tt0000215|4.4          |90      |[nm0471818]                                                                                                                                                                                                                 |\n",
            "|tt0000247|4.9          |371     |[nm0784327, nm2156608, nm2259742, nm2261015, nm2263402, nm5858730, nm6010696, nm6023385, nm6023386, nm6114857, nm6472690, nm6472691, nm6472692, nm6472693, nm7947286, nm0177548, nm1266638, nm2247819, nm0002504, nm2431571]|\n",
            "|tt0000319|5.9          |99      |[nm1272063, nm1272675, nm0793094]                                                                                                                                                                                           |\n",
            "|tt0000335|6.2          |39      |[nm0675260, nm1010955, nm1011210, nm1012612, nm1012621, nm0095714, nm0675239, nm0675140]                                                                                                                                    |\n",
            "|tt0000420|6.3          |2176    |[nm1539007, nm0926498, nm1012587, nm0164281, nm0378408, nm1539443]                                                                                                                                                          |\n",
            "|tt0000488|6.9          |632     |[nm0794919, nm1096358, nm0298300, nm0422465, nm0259860]                                                                                                                                                                     |\n",
            "|tt0000499|7.6          |2889    |[nm8706003, nm0257866, nm0617588]                                                                                                                                                                                           |\n",
            "|tt0000546|6.7          |1566    |[nm0106151, nm0567363]                                                                                                                                                                                                      |\n",
            "|tt0000583|5.5          |20      |[nm0022608, nm0470250, nm0647719, nm5216764, nm5216822, nm0676941, nm0526168]                                                                                                                                               |\n",
            "|tt0000584|5.0          |46      |[nm0305591, nm0400103, nm0191133]                                                                                                                                                                                           |\n",
            "|tt0000602|4.8          |146     |[nm0630737, nm4572288]                                                                                                                                                                                                      |\n",
            "|tt0000609|4.5          |11      |[nm0143332, nm0143333, nm0892614]                                                                                                                                                                                           |\n",
            "+---------+-------------+--------+----------------------------------------------------------------------------------------------------------------------------------------------------------------------------------------------------------------------------+\n",
            "only showing top 20 rows\n",
            "\n"
          ],
          "name": "stdout"
        }
      ]
    },
    {
      "cell_type": "markdown",
      "metadata": {
        "id": "olJxtpIY-phm"
      },
      "source": [
        "NGRAM and Frequency Growth mining based Market Basket Analysis\n",
        "\n",
        "Resources= \n",
        "http://repositorio.uchile.cl/bitstream/handle/2250/126856/Extending-market-basket-analysis-with-graph-mining-techniques-A-real-case.pdf?sequence=1\n",
        "\n",
        "http://www.vldb.org/conf/1994/P487.PDF\n",
        "\n",
        "https://www.aclweb.org/anthology/P96-1025.pdf"
      ]
    },
    {
      "cell_type": "code",
      "metadata": {
        "colab": {
          "base_uri": "https://localhost:8080/"
        },
        "id": "YBeRU0P-hdeV",
        "outputId": "2daf69e2-9185-44e7-e53b-c6cac3cb209a"
      },
      "source": [
        "from pyspark.ml.feature import NGram\n",
        "ngram = NGram(n=2, inputCol=\"castcrew\", outputCol=\"bigrams\")\n",
        "ngramDataFrame = ngram.transform(data)\n",
        "\n",
        "ngramDataFrame.show(truncate=False)"
      ],
      "execution_count": 15,
      "outputs": [
        {
          "output_type": "stream",
          "text": [
            "+---------+-------------+--------+----------------------------------------------------------------------------------------------------------------------------------------------------------------------------------------------------------------------------+---------------------------------------------------------------------------------------------------------------------------------------------------------------------------------------------------------------------------------------------------------------------------------------------------------------------------------------------------------------------------------------------------------------+\n",
            "|tconst   |averageRating|numVotes|castcrew                                                                                                                                                                                                                    |bigrams                                                                                                                                                                                                                                                                                                                                                                                                        |\n",
            "+---------+-------------+--------+----------------------------------------------------------------------------------------------------------------------------------------------------------------------------------------------------------------------------+---------------------------------------------------------------------------------------------------------------------------------------------------------------------------------------------------------------------------------------------------------------------------------------------------------------------------------------------------------------------------------------------------------------+\n",
            "|tt0000003|6.5          |1207    |[nm0721526, nm5442194, nm5442200, nm5442215, nm5442293, nm1335271]                                                                                                                                                          |[nm0721526 nm5442194, nm5442194 nm5442200, nm5442200 nm5442215, nm5442215 nm5442293, nm5442293 nm1335271]                                                                                                                                                                                                                                                                                                      |\n",
            "|tt0000012|7.4          |9440    |[nm9735580, nm0525908, nm0525910, nm2880396]                                                                                                                                                                                |[nm9735580 nm0525908, nm0525908 nm0525910, nm0525910 nm2880396]                                                                                                                                                                                                                                                                                                                                                |\n",
            "|tt0000014|7.1          |4115    |[nm0166380, nm0244989, nm0525910]                                                                                                                                                                                           |[nm0166380 nm0244989, nm0244989 nm0525910]                                                                                                                                                                                                                                                                                                                                                                     |\n",
            "|tt0000018|5.4          |447     |[nm3692071]                                                                                                                                                                                                                 |[]                                                                                                                                                                                                                                                                                                                                                                                                             |\n",
            "|tt0000029|5.9          |2639    |[nm2350838, nm0525900]                                                                                                                                                                                                      |[nm2350838 nm0525900]                                                                                                                                                                                                                                                                                                                                                                                          |\n",
            "|tt0000121|4.6          |43      |[nm0609678, nm0780534, nm5718242, nm0832461]                                                                                                                                                                                |[nm0609678 nm0780534, nm0780534 nm5718242, nm5718242 nm0832461]                                                                                                                                                                                                                                                                                                                                                |\n",
            "|tt0000165|5.2          |76      |[nm0024876, nm0083196, nm0556371, nm0563758, nm0278321]                                                                                                                                                                     |[nm0024876 nm0083196, nm0083196 nm0556371, nm0556371 nm0563758, nm0563758 nm0278321]                                                                                                                                                                                                                                                                                                                           |\n",
            "|tt0000174|4.9          |98      |[nm1024447, nm0471818]                                                                                                                                                                                                      |[nm1024447 nm0471818]                                                                                                                                                                                                                                                                                                                                                                                          |\n",
            "|tt0000215|4.4          |90      |[nm0471818]                                                                                                                                                                                                                 |[]                                                                                                                                                                                                                                                                                                                                                                                                             |\n",
            "|tt0000247|4.9          |371     |[nm0784327, nm2156608, nm2259742, nm2261015, nm2263402, nm5858730, nm6010696, nm6023385, nm6023386, nm6114857, nm6472690, nm6472691, nm6472692, nm6472693, nm7947286, nm0177548, nm1266638, nm2247819, nm0002504, nm2431571]|[nm0784327 nm2156608, nm2156608 nm2259742, nm2259742 nm2261015, nm2261015 nm2263402, nm2263402 nm5858730, nm5858730 nm6010696, nm6010696 nm6023385, nm6023385 nm6023386, nm6023386 nm6114857, nm6114857 nm6472690, nm6472690 nm6472691, nm6472691 nm6472692, nm6472692 nm6472693, nm6472693 nm7947286, nm7947286 nm0177548, nm0177548 nm1266638, nm1266638 nm2247819, nm2247819 nm0002504, nm0002504 nm2431571]|\n",
            "|tt0000319|5.9          |99      |[nm1272063, nm1272675, nm0793094]                                                                                                                                                                                           |[nm1272063 nm1272675, nm1272675 nm0793094]                                                                                                                                                                                                                                                                                                                                                                     |\n",
            "|tt0000335|6.2          |39      |[nm0675260, nm1010955, nm1011210, nm1012612, nm1012621, nm0095714, nm0675239, nm0675140]                                                                                                                                    |[nm0675260 nm1010955, nm1010955 nm1011210, nm1011210 nm1012612, nm1012612 nm1012621, nm1012621 nm0095714, nm0095714 nm0675239, nm0675239 nm0675140]                                                                                                                                                                                                                                                            |\n",
            "|tt0000420|6.3          |2176    |[nm1539007, nm0926498, nm1012587, nm0164281, nm0378408, nm1539443]                                                                                                                                                          |[nm1539007 nm0926498, nm0926498 nm1012587, nm1012587 nm0164281, nm0164281 nm0378408, nm0378408 nm1539443]                                                                                                                                                                                                                                                                                                      |\n",
            "|tt0000488|6.9          |632     |[nm0794919, nm1096358, nm0298300, nm0422465, nm0259860]                                                                                                                                                                     |[nm0794919 nm1096358, nm1096358 nm0298300, nm0298300 nm0422465, nm0422465 nm0259860]                                                                                                                                                                                                                                                                                                                           |\n",
            "|tt0000499|7.6          |2889    |[nm8706003, nm0257866, nm0617588]                                                                                                                                                                                           |[nm8706003 nm0257866, nm0257866 nm0617588]                                                                                                                                                                                                                                                                                                                                                                     |\n",
            "|tt0000546|6.7          |1566    |[nm0106151, nm0567363]                                                                                                                                                                                                      |[nm0106151 nm0567363]                                                                                                                                                                                                                                                                                                                                                                                          |\n",
            "|tt0000583|5.5          |20      |[nm0022608, nm0470250, nm0647719, nm5216764, nm5216822, nm0676941, nm0526168]                                                                                                                                               |[nm0022608 nm0470250, nm0470250 nm0647719, nm0647719 nm5216764, nm5216764 nm5216822, nm5216822 nm0676941, nm0676941 nm0526168]                                                                                                                                                                                                                                                                                 |\n",
            "|tt0000584|5.0          |46      |[nm0305591, nm0400103, nm0191133]                                                                                                                                                                                           |[nm0305591 nm0400103, nm0400103 nm0191133]                                                                                                                                                                                                                                                                                                                                                                     |\n",
            "|tt0000602|4.8          |146     |[nm0630737, nm4572288]                                                                                                                                                                                                      |[nm0630737 nm4572288]                                                                                                                                                                                                                                                                                                                                                                                          |\n",
            "|tt0000609|4.5          |11      |[nm0143332, nm0143333, nm0892614]                                                                                                                                                                                           |[nm0143332 nm0143333, nm0143333 nm0892614]                                                                                                                                                                                                                                                                                                                                                                     |\n",
            "+---------+-------------+--------+----------------------------------------------------------------------------------------------------------------------------------------------------------------------------------------------------------------------------+---------------------------------------------------------------------------------------------------------------------------------------------------------------------------------------------------------------------------------------------------------------------------------------------------------------------------------------------------------------------------------------------------------------+\n",
            "only showing top 20 rows\n",
            "\n"
          ],
          "name": "stdout"
        }
      ]
    },
    {
      "cell_type": "code",
      "metadata": {
        "id": "4c6CbKECv7iK"
      },
      "source": [
        "bigrams = ngramDataFrame.toPandas()['bigrams']\n"
      ],
      "execution_count": 16,
      "outputs": []
    },
    {
      "cell_type": "code",
      "metadata": {
        "id": "_mYLc7NihjW4"
      },
      "source": [
        "\n",
        "table = {}\n",
        "total = len(bigrams)\n",
        "completion = 0\n",
        "for bigram in bigrams:\n",
        "    for combination in bigram:\n",
        "        components = combination.split(' ')\n",
        "        key = components[0]\n",
        "        valKey = components[1]\n",
        "        if key in table:\n",
        "            valueDict = table[key]\n",
        "            if valKey in valueDict:\n",
        "                valueDict[valKey] = valueDict[valKey] + 1\n",
        "            else:\n",
        "                valueDict[valKey] = 1\n",
        "        else:\n",
        "            valueDict =  {valKey: 1}\n",
        "            table[key] = valueDict\n",
        "    completion += 1"
      ],
      "execution_count": 17,
      "outputs": []
    },
    {
      "cell_type": "markdown",
      "metadata": {
        "id": "eC5tTX_TDldQ"
      },
      "source": [
        "Showing Frequency of different cast and crew are together in more than 3 movies"
      ]
    },
    {
      "cell_type": "code",
      "metadata": {
        "id": "YDeH_aQUJpFv"
      },
      "source": [
        ""
      ],
      "execution_count": 17,
      "outputs": []
    },
    {
      "cell_type": "code",
      "metadata": {
        "colab": {
          "base_uri": "https://localhost:8080/"
        },
        "id": "G1fGeEFChwPe",
        "outputId": "78feef0c-938d-465d-d57a-fd5874746abd"
      },
      "source": [
        "for firstWord in table:\n",
        "    for secondWord in table[firstWord]:\n",
        "        if table[firstWord][secondWord] > 3:\n",
        "            print(firstWord, \" + \", secondWord, \": \", table[firstWord][secondWord])"
      ],
      "execution_count": 18,
      "outputs": [
        {
          "output_type": "stream",
          "text": [
            "nm1410831  +  nm1410832 :  4\n",
            "nm1141563  +  nm1141616 :  4\n",
            "nm0268716  +  nm0268717 :  4\n",
            "nm3186243  +  nm3186250 :  4\n",
            "nm2684503  +  nm2686766 :  4\n",
            "nm0244505  +  nm0244523 :  4\n",
            "nm1721924  +  nm1724662 :  4\n",
            "nm0994831  +  nm0994966 :  4\n",
            "nm0970179  +  nm0970239 :  4\n",
            "nm0968911  +  nm0968932 :  4\n",
            "nm1288519  +  nm1288938 :  4\n",
            "nm2369182  +  nm2375001 :  4\n",
            "nm4845589  +  nm4845617 :  4\n",
            "nm0402867  +  nm0402970 :  4\n",
            "nm0817915  +  nm0818139 :  4\n",
            "nm4672282  +  nm4672646 :  4\n",
            "nm2340048  +  nm2340183 :  4\n",
            "nm1172359  +  nm1172360 :  4\n",
            "nm1068656  +  nm1070798 :  4\n",
            "nm2306904  +  nm2309639 :  4\n",
            "nm0709120  +  nm0761694 :  4\n",
            "nm5008801  +  nm5008865 :  4\n",
            "nm3075069  +  nm3076505 :  4\n",
            "nm1649516  +  nm1651852 :  4\n",
            "nm2654523  +  nm2654526 :  4\n",
            "nm2663953  +  nm2664666 :  4\n",
            "nm1179503  +  nm1179582 :  4\n",
            "nm1318843  +  nm1319757 :  4\n",
            "nm2213735  +  nm2332106 :  4\n",
            "nm1312722  +  nm1312843 :  4\n",
            "nm3022868  +  nm3023013 :  4\n",
            "nm2520571  +  nm2520991 :  4\n",
            "nm0463004  +  nm0475491 :  4\n",
            "nm1039165  +  nm1041808 :  4\n",
            "nm1041977  +  nm1043539 :  4\n",
            "nm1310809  +  nm1311152 :  4\n",
            "nm7771918  +  nm7771919 :  4\n",
            "nm1402635  +  nm1403026 :  4\n",
            "nm1360129  +  nm1361476 :  4\n",
            "nm1873585  +  nm1879945 :  4\n",
            "nm1123314  +  nm1124226 :  4\n",
            "nm0794602  +  nm0903760 :  4\n",
            "nm1971386  +  nm1971451 :  4\n",
            "nm1717826  +  nm1717827 :  4\n",
            "nm3095627  +  nm3104812 :  4\n",
            "nm5006026  +  nm5007239 :  4\n",
            "nm1406117  +  nm1406551 :  4\n",
            "nm1773883  +  nm1776013 :  4\n",
            "nm1415365  +  nm1415381 :  4\n",
            "nm1762461  +  nm1762550 :  4\n",
            "nm2491686  +  nm2520108 :  4\n",
            "nm1290218  +  nm1292465 :  4\n",
            "nm1770819  +  nm1770836 :  4\n",
            "nm2980114  +  nm2980153 :  4\n",
            "nm3004188  +  nm3004198 :  4\n",
            "nm3061921  +  nm3062025 :  4\n",
            "nm3095464  +  nm3095790 :  4\n",
            "nm2804806  +  nm2804988 :  4\n",
            "nm2996702  +  nm2996741 :  4\n",
            "nm3005715  +  nm3005804 :  4\n",
            "nm3067534  +  nm3067568 :  4\n",
            "nm3081325  +  nm3081561 :  4\n",
            "nm3108209  +  nm3108368 :  4\n",
            "nm1822128  +  nm1822160 :  4\n",
            "nm2784336  +  nm2784825 :  4\n",
            "nm2995645  +  nm2995657 :  4\n",
            "nm3024222  +  nm3024237 :  4\n",
            "nm2068135  +  nm2068726 :  4\n",
            "nm2793665  +  nm2793909 :  4\n",
            "nm2833819  +  nm2833851 :  4\n",
            "nm2967871  +  nm2968384 :  4\n",
            "nm3003146  +  nm3003216 :  4\n",
            "nm3006193  +  nm3006202 :  4\n",
            "nm1604134  +  nm1651587 :  4\n",
            "nm1433755  +  nm1439189 :  4\n",
            "nm2411235  +  nm2411635 :  4\n",
            "nm2869345  +  nm2869768 :  4\n",
            "nm2579913  +  nm2582950 :  4\n",
            "nm10472656  +  nm10472659 :  4\n",
            "nm3912405  +  nm3914351 :  4\n",
            "nm2762972  +  nm2892268 :  4\n",
            "nm6812825  +  nm7145992 :  4\n",
            "nm10726364  +  nm10726365 :  4\n",
            "nm2310179  +  nm2310185 :  4\n",
            "nm2312741  +  nm2312880 :  4\n",
            "nm2301599  +  nm2301601 :  4\n",
            "nm2312129  +  nm2312464 :  4\n",
            "nm3063363  +  nm3069325 :  4\n",
            "nm1928552  +  nm1983100 :  4\n",
            "nm3269737  +  nm3270219 :  4\n",
            "nm5146176  +  nm5146270 :  4\n",
            "nm5164817  +  nm5165967 :  4\n",
            "nm2759878  +  nm2763667 :  4\n",
            "nm2978240  +  nm2978514 :  4\n",
            "nm6042133  +  nm6042135 :  4\n",
            "nm3767422  +  nm3767474 :  4\n",
            "nm3851000  +  nm3853998 :  4\n",
            "nm3137040  +  nm3137986 :  4\n",
            "nm1223364  +  nm1223826 :  4\n",
            "nm2370831  +  nm2378613 :  4\n",
            "nm10470375  +  nm10470376 :  4\n",
            "nm10486482  +  nm10486483 :  4\n",
            "nm4124317  +  nm4134254 :  4\n",
            "nm5799465  +  nm5799470 :  4\n",
            "nm5799457  +  nm5799463 :  4\n",
            "nm1758524  +  nm1765766 :  4\n",
            "nm5293172  +  nm5293352 :  4\n",
            "nm3270827  +  nm3272744 :  4\n",
            "nm4306167  +  nm4306876 :  4\n",
            "nm3879398  +  nm3888934 :  4\n",
            "nm4538525  +  nm4538725 :  4\n",
            "nm4538391  +  nm4538429 :  4\n",
            "nm4590750  +  nm4591220 :  4\n",
            "nm3362520  +  nm3362765 :  4\n",
            "nm3335749  +  nm3335751 :  4\n",
            "nm5515358  +  nm5538832 :  4\n",
            "nm6884765  +  nm6884777 :  4\n",
            "nm5322727  +  nm6425764 :  4\n",
            "nm7038581  +  nm7038582 :  4\n",
            "nm4532900  +  nm4532911 :  4\n",
            "nm9019186  +  nm9019187 :  4\n",
            "nm5901251  +  nm5901252 :  4\n",
            "nm5719056  +  nm5719139 :  4\n",
            "nm5810024  +  nm5810025 :  4\n",
            "nm6922788  +  nm6922789 :  4\n",
            "nm7096904  +  nm7096905 :  4\n",
            "nm6552376  +  nm6552378 :  4\n",
            "nm6036053  +  nm6036054 :  4\n",
            "nm5662648  +  nm5663878 :  4\n",
            "nm0921699  +  nm0969742 :  4\n",
            "nm6984688  +  nm6984689 :  4\n",
            "nm10052445  +  nm10052446 :  4\n",
            "nm6735070  +  nm6735072 :  4\n",
            "nm6243851  +  nm6243853 :  4\n",
            "nm6045001  +  nm6045004 :  4\n",
            "nm5632038  +  nm5632161 :  4\n",
            "nm5632237  +  nm5632310 :  4\n",
            "nm7462773  +  nm7462774 :  4\n",
            "nm4911438  +  nm4911749 :  4\n",
            "nm6440927  +  nm6440928 :  4\n",
            "nm2488137  +  nm2488259 :  4\n",
            "nm7376396  +  nm7376398 :  4\n",
            "nm2370765  +  nm2372764 :  4\n",
            "nm7429224  +  nm7429225 :  4\n",
            "nm5896433  +  nm6084821 :  4\n",
            "nm8685641  +  nm8685643 :  4\n",
            "nm10363853  +  nm10363854 :  4\n",
            "nm2849375  +  nm2849632 :  4\n",
            "nm2979271  +  nm2979493 :  4\n",
            "nm6189708  +  nm6189709 :  4\n",
            "nm9264329  +  nm9264333 :  4\n",
            "nm9727517  +  nm9727518 :  4\n",
            "nm9806817  +  nm9806818 :  4\n",
            "nm7804497  +  nm8072226 :  4\n",
            "nm10374827  +  nm4207810 :  4\n",
            "nm0147052  +  nm0147053 :  4\n",
            "nm1287664  +  nm1289804 :  4\n",
            "nm2632581  +  nm2632893 :  4\n",
            "nm3107552  +  nm3107993 :  4\n",
            "nm1111052  +  nm1111644 :  4\n",
            "nm3036721  +  nm3036743 :  4\n",
            "nm1515541  +  nm1515542 :  4\n",
            "nm2873662  +  nm2873713 :  4\n",
            "nm8010671  +  nm8010672 :  4\n",
            "nm1412523  +  nm1413825 :  4\n",
            "nm1862533  +  nm1863702 :  4\n",
            "nm2459998  +  nm2460053 :  4\n",
            "nm3886933  +  nm3887731 :  4\n",
            "nm2868528  +  nm2868553 :  4\n",
            "nm3505843  +  nm3506556 :  4\n",
            "nm6520690  +  nm6520691 :  4\n",
            "nm2862082  +  nm3596117 :  4\n",
            "nm5146581  +  nm5146775 :  4\n",
            "nm6931363  +  nm6931364 :  4\n",
            "nm5307405  +  nm5307409 :  4\n",
            "nm3225731  +  nm3226377 :  4\n",
            "nm7141834  +  nm7141837 :  4\n",
            "nm3499283  +  nm3499494 :  4\n",
            "nm1468859  +  nm1726688 :  4\n",
            "nm2841427  +  nm2841652 :  4\n",
            "nm1618875  +  nm1623950 :  4\n",
            "nm1934503  +  nm1939241 :  4\n"
          ],
          "name": "stdout"
        }
      ]
    },
    {
      "cell_type": "markdown",
      "metadata": {
        "id": "5UEnRS7w_9uK"
      },
      "source": [
        "**Movie Recommendation System Logic**\n",
        "\n",
        "For example, if in  a movie these three are together 'a', 'b', 'c'\n",
        "bigrams will be \n",
        "\n",
        "'a b', 'b c'. \n",
        "\n",
        "in another movie 'b', 'c', 'd', then the bigrams will be\n",
        "\n",
        "'b c', 'c d'.\n",
        "\n",
        "then recommendation is given based on the bigram frequency according to the frequency dictionory created before in Market Basket Analysis\n",
        "first need to sort the frequencies for each bigram in decending order.\n",
        "\n",
        "For example,  {'a': {'c': 5, 'e':5, 'f': 7, 'g': 1}}, it will be sorted as\n",
        "\n",
        "'a'+'f': 7\n",
        "\n",
        "'a'+'e': 5\n",
        "\n",
        "'a'+'c': 5\n",
        "\n",
        "'a'+'g': 1\n",
        "\n",
        "Actors will be recommended  from the ones with highest frequency\n"
      ]
    },
    {
      "cell_type": "code",
      "metadata": {
        "id": "RHF7kuyDk5-2"
      },
      "source": [
        "import random\n",
        "def getPureData(x):\n",
        "    if x not in table:\n",
        "        return []\n",
        "    sortedOringalList = sorted(table[x].items(), key=lambda x: x[1], reverse=True)\n",
        "    data = {}\n",
        "    for tp in sortedOringalList:\n",
        "        product = tp[0]\n",
        "        number = tp[1]\n",
        "        if number in data:\n",
        "            productList = data[number]\n",
        "            productList.append(product)\n",
        "        else:\n",
        "            productList = [product]\n",
        "        data[number] = productList\n",
        "    pureData = data.values()\n",
        "    return list(pureData)\n",
        "\n",
        "def recommendactors(pureData, numberOfRecommend):\n",
        "        \n",
        "    recommendProds = []\n",
        "    for prods in pureData:\n",
        "        if len(prods) <= numberOfRecommend:\n",
        "            recommendProds += prods\n",
        "            numberOfRecommend -= len(prods)\n",
        "        else:\n",
        "            recommendProds += random.sample(prods, numberOfRecommend)\n",
        "            numberOfRecommend = 0\n",
        "\n",
        "        if numberOfRecommend == 0:\n",
        "            break\n",
        "    \n",
        "    return recommendProds\n",
        "\n",
        "\n",
        "def getRecommend(name, numberOfRecommend):\n",
        "    \n",
        "    \n",
        "    \n",
        "    \n",
        "    recommendactorq = []\n",
        "    actor = name\n",
        "    index = 0\n",
        "\n",
        "    while (numberOfRecommend):\n",
        "        data = getPureData(actor)\n",
        "        intermediate = recommendactors(data, numberOfRecommend)\n",
        "        recommendactorq += intermediate\n",
        "        if len(intermediate) == 0 and index == len(recommendactorq):\n",
        "            break\n",
        "        numberOfRecommend -= len(intermediate)\n",
        "        if numberOfRecommend > 0:\n",
        "            actor = recommendactorq[index]\n",
        "            index += 1\n",
        "\n",
        "    return recommendactorq\n",
        "\n",
        "\n"
      ],
      "execution_count": 19,
      "outputs": []
    },
    {
      "cell_type": "code",
      "metadata": {
        "colab": {
          "base_uri": "https://localhost:8080/"
        },
        "id": "HAoq_vqidsZE",
        "outputId": "3e2d0a22-4df8-4d8f-dedc-759b04a1c84a"
      },
      "source": [
        "castcrew1.where(castcrew1.nconst == 'nm0000015' ).take(1)"
      ],
      "execution_count": 20,
      "outputs": [
        {
          "output_type": "execute_result",
          "data": {
            "text/plain": [
              "[Row(nconst='nm0000015', primaryName='James Dean', birthYear='1931', deathYear='1955', primaryProfession='actor,miscellaneous', knownForTitles='tt0048545,tt0048028,tt0044245,tt0049261')]"
            ]
          },
          "metadata": {
            "tags": []
          },
          "execution_count": 20
        }
      ]
    },
    {
      "cell_type": "code",
      "metadata": {
        "colab": {
          "base_uri": "https://localhost:8080/"
        },
        "id": "B12qPuT_ojO5",
        "outputId": "545ef73e-eee0-4ad7-ab66-bb1bdb022b92"
      },
      "source": [
        "xxx=getRecommend(\"nm0000015\",5)\n",
        "castcrew1.filter(castcrew1.nconst.isin(xxx)).select('primaryName').collect()\n"
      ],
      "execution_count": 21,
      "outputs": [
        {
          "output_type": "execute_result",
          "data": {
            "text/plain": [
              "[Row(primaryName='Ernest Haller'),\n",
              " Row(primaryName='Ted D. McCord'),\n",
              " Row(primaryName='Adell Aldrich'),\n",
              " Row(primaryName='Mary Anderson'),\n",
              " Row(primaryName='Don Appell')]"
            ]
          },
          "metadata": {
            "tags": []
          },
          "execution_count": 21
        }
      ]
    },
    {
      "cell_type": "code",
      "metadata": {
        "colab": {
          "base_uri": "https://localhost:8080/"
        },
        "id": "tdWmQ2E41Eog",
        "outputId": "4eb06049-62cc-4295-c134-46e1e328a477"
      },
      "source": [
        "movierecommendations=castcrew12.filter(castcrew12.nconst.isin(xxx))\n",
        "movierecommendations=movierecommendations.select(\"mov1\",'mov2','mov3','mov4').rdd.flatMap(lambda x: x)\n",
        "movierecommendations1=movies.filter(movies.tconst.isin((movierecommendations).collect()))\n",
        "movierecommendations1.select(\"primaryTitle\").rdd.flatMap(lambda x: x).collect()\n"
      ],
      "execution_count": 22,
      "outputs": [
        {
          "output_type": "execute_result",
          "data": {
            "text/plain": [
              "['Gone with the Wind',\n",
              " 'Henry and Dizzy',\n",
              " 'Lifeboat',\n",
              " 'Wilson',\n",
              " 'Mildred Pierce',\n",
              " 'Johnny Belinda',\n",
              " 'The Treasure of the Sierra Madre',\n",
              " 'The Vaughn Monroe Show',\n",
              " 'Campbell Summer Soundstage',\n",
              " 'East of Eden',\n",
              " 'Rebel Without a Cause',\n",
              " 'The Vic Damone Show',\n",
              " 'What Ever Happened to Baby Jane?',\n",
              " 'The Sound of Music',\n",
              " 'Pretty Woman',\n",
              " 'Frankie and Johnny',\n",
              " 'Sliver',\n",
              " 'Stop! Look! and Laugh!']"
            ]
          },
          "metadata": {
            "tags": []
          },
          "execution_count": 22
        }
      ]
    }
  ]
}